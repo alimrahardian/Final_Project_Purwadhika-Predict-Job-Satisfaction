{
 "cells": [
  {
   "cell_type": "markdown",
   "metadata": {},
   "source": [
    "# Job Satisfaction Prediction Model\n",
    "based on kaggle Stack Overflow 2018 Developer Survey\n"
   ]
  },
  {
   "cell_type": "code",
   "execution_count": null,
   "metadata": {},
   "outputs": [],
   "source": [
    "import pandas as pd\n",
    "import numpy as np\n",
    "import matplotlib.pyplot as plt\n",
    "import seaborn as sns\n",
    "%matplotlib inline"
   ]
  },
  {
   "cell_type": "code",
   "execution_count": null,
   "metadata": {},
   "outputs": [],
   "source": [
    "survey = pd.read_csv('stack-overflow-2018-developer-survey/survey_results_public.csv')\n",
    "print(survey.shape)"
   ]
  },
  {
   "cell_type": "markdown",
   "metadata": {},
   "source": [
    "# Selecting Feature To Be Used\n",
    "\n",
    "feature selected for this model are rather general in nature, as most dev has experience or can easily determind his/her current condition base on feature below\n",
    "\n",
    "- Age : respondent age\n",
    "- Gender : respondent gender\n",
    "- Hobby : do respondent code as a hobby\n",
    "- Hours Computer: How many hours spent in front of the computer a day\n",
    "- Hour Outside : how much time do you spend outside?\n",
    "- Years coding: for how many years have you been coding?\n",
    "- Time Fully Productive: time takes for new coder to be productive and contributing in new work    environment\n",
    "- Exercise : how many times do you exercise in a week?\n",
    "- Job Satisfaction : How satisfied are you with your current job\n",
    "- Employment : current employment status"
   ]
  },
  {
   "cell_type": "code",
   "execution_count": null,
   "metadata": {
    "scrolled": true
   },
   "outputs": [],
   "source": [
    "column_selected = ['Age', 'Gender', 'Hobby', 'HoursComputer', 'HoursOutside', \n",
    "'YearsCoding', 'TimeFullyProductive', 'Exercise', 'Employment', 'JobSatisfaction']\n",
    "rawData = survey[column_selected]\n",
    "rawData.head()"
   ]
  },
  {
   "cell_type": "code",
   "execution_count": null,
   "metadata": {},
   "outputs": [],
   "source": [
    "# check null raw data\n",
    "sns.heatmap(rawData.isnull())\n",
    "plt.tight_layout()\n",
    "plt.show()"
   ]
  },
  {
   "cell_type": "markdown",
   "metadata": {},
   "source": [
    "heatmap show how raw data has many missing value\n",
    "this happen because on original survey some of the feature aren't necessary to be filled\n",
    "by respondent and the survey it self change its content overtime"
   ]
  },
  {
   "cell_type": "code",
   "execution_count": null,
   "metadata": {},
   "outputs": [],
   "source": [
    "# check value on a feature\n",
    "\n",
    "rawData = survey[column_selected]\n",
    "rawData.Employment.value_counts()"
   ]
  },
  {
   "cell_type": "markdown",
   "metadata": {},
   "source": [
    "example above show how the survey adding conteng over time that makes\n",
    "gender have so many classifications this create noise that need to be fix\n",
    "before data can be explored"
   ]
  },
  {
   "cell_type": "markdown",
   "metadata": {},
   "source": [
    " #PRE-PROCESSING\n",
    "\n",
    "treatment needed before we can make use of this data are\n",
    "1. drop missing value\n",
    "2. reduce classifaction on some feature\n",
    "3. create dummy variable"
   ]
  },
  {
   "cell_type": "code",
   "execution_count": null,
   "metadata": {},
   "outputs": [],
   "source": [
    "# drop missing value\n",
    "\n",
    "rawData = rawData.replace('nan', np.nan)\n",
    "rawData = rawData.dropna()\n",
    "\n",
    "sns.heatmap(rawData.isnull())\n",
    "plt.tight_layout()\n",
    "plt.show()"
   ]
  },
  {
   "cell_type": "markdown",
   "metadata": {},
   "source": [
    "figure abow show our data now have no missing value\n",
    "now after data in clean we can do more further pre processing"
   ]
  },
  {
   "cell_type": "code",
   "execution_count": null,
   "metadata": {
    "scrolled": true
   },
   "outputs": [],
   "source": [
    "# set feature and target\n",
    "\n",
    "categorical = ['Age', 'Gender', 'Hobby', 'HoursComputer', 'HoursOutside', \n",
    "'YearsCoding', 'TimeFullyProductive', 'Exercise', 'Employment']\n",
    "\n",
    "x = rawData[categorical]\n",
    "y = rawData['JobSatisfaction']"
   ]
  },
  {
   "cell_type": "code",
   "execution_count": null,
   "metadata": {
    "scrolled": true
   },
   "outputs": [],
   "source": [
    "## CHECK VALUES\n",
    "# Feature \n",
    "for item in categorical:\n",
    "    catCount = x[item].values\n",
    "    print(f'{item}', len(catCount))\n",
    "    print(x[item].value_counts())\n",
    "\n",
    "# Target\n",
    "targetCatCount = y.values\n",
    "targetValueCount = y.value_counts()\n",
    "print('JobSatisfaction', len(targetCatCount))\n",
    "print(targetValueCount)"
   ]
  },
  {
   "cell_type": "markdown",
   "metadata": {},
   "source": [
    "as shown above some of our variable have too many categories that need to be reduced\n",
    "so can have more generalize insight rather than too specific"
   ]
  },
  {
   "cell_type": "code",
   "execution_count": null,
   "metadata": {},
   "outputs": [],
   "source": [
    "### MINIMIZING CATEGORIES\n",
    "## Feature\n",
    "# gender\n",
    "nonBinaryGender = ['Non-binary, genderqueer, or gender non-conforming' , 'Female;Transgender' , 'Male;Non-binary, genderqueer, or gender non-conforming' ,\n",
    "'Female;Male' , 'Transgender' , 'Transgender;Non-binary, genderqueer, or gender non-conforming' , 'Female;Non-binary, genderqueer, or gender non-conforming' ,\n",
    "'Male;Transgender' , 'Female;Male;Transgender;Non-binary, genderqueer, or gender non-conforming' , 'Female;Transgender;Non-binary, genderqueer, or gender non-conforming' ,\n",
    "'Female;Male;Transgender' , 'Male;Transgender;Non-binary, genderqueer, or gender non-conforming' , 'Female;Male;Non-binary, genderqueer, or gender non-conforming' ]\n",
    "x['Gender'].replace(nonBinaryGender, 'Non Binary', inplace=True)\n",
    "\n",
    "# years coding\n",
    "years2_5 = ['3-5 years']\n",
    "years5_10 = ['6-8 years', '9-11 years']\n",
    "years10more = ['12-14 years', '15-17 years', '18-20 years', '21-23 years', '24-26 years',\n",
    "'27-29 years', '30 or more years']\n",
    "x['YearsCoding'].replace(years2_5, '2-5years',inplace=True)\n",
    "x['YearsCoding'].replace(years5_10, '5-10 years',inplace=True)\n",
    "x['YearsCoding'].replace(years10more, '10 years or more',inplace=True)\n",
    "\n",
    "# time fully productive\n",
    "moreThan6 = ['Six to nine months', 'Nine months to a year', 'More than a year']\n",
    "x['TimeFullyProductive'].replace(moreThan6, 'six to more than a year', inplace=True)\n",
    "\n",
    "\n",
    "## CHECK VALUES\n",
    "# Feature \n",
    "for item in categorical:\n",
    "    catCount = x[item].values\n",
    "    print(f'{item}', len(catCount))\n",
    "    print(x[item].value_counts())\n",
    "\n",
    "# target\n",
    "targetCatCount = y.values\n",
    "targetValueCount = y.value_counts()\n",
    "print('JobSatisfaction', len(targetCatCount))\n",
    "print(targetValueCount)\n",
    "print()\n",
    "\n",
    "## Target\n",
    "satisfied = ['Slightly satisfied', 'Moderately satisfied', 'Extremely satisfied']\n",
    "disatisfied = ['Slightly dissatisfied', 'Moderately dissatisfied', 'Extremely dissatisfied']\n",
    "y.replace(satisfied, 'Satisfied', inplace=True)\n",
    "y.replace(disatisfied, 'Disatisfied', inplace=True)\n",
    "print(y.value_counts())"
   ]
  },
  {
   "cell_type": "code",
   "execution_count": null,
   "metadata": {
    "scrolled": false
   },
   "outputs": [],
   "source": [
    "### VISUALIZE after before processing\n",
    "\n",
    "joinDf = x.join(y)\n",
    "\n",
    "## Target - Job Satisfaction\n",
    "target_name = ['Satisfied', 'Disatisfied', 'Neither satisfied nor dissatisfied']\n",
    "plt.pie(x=joinDf['JobSatisfaction'].value_counts(), labels=target_name, autopct='%1.0f%%')\n",
    "plt.title('Job Satisfaction')\n",
    "plt.tight_layout()\n",
    "plt.show()\n",
    "\n",
    "\n",
    "## Feature\n",
    "# feature relation to target variable\n",
    "for item in categorical:\n",
    "    sns.countplot(y=joinDf[item], hue=joinDf['JobSatisfaction'])\n",
    "    plt.tight_layout()\n",
    "    plt.show()"
   ]
  },
  {
   "cell_type": "markdown",
   "metadata": {},
   "source": [
    "some insight\n",
    "\n",
    "- most respondent feel satisfied as a coder\n",
    "- most dev age are under 34yo\n",
    "- most dev are male\n",
    "- most dev start / code as a hobby\n",
    "- most dev spend more than 9 hours in front of computer\n",
    "- most dev spend outside under 2 hours\n",
    "- most dev have code for more than 5 years\n",
    "- most dev start contributing productive result on new work environment under 3 months\n",
    "- some dev don't do excercise that much in a week\n",
    "- most dev are fulltime employed"
   ]
  },
  {
   "cell_type": "code",
   "execution_count": null,
   "metadata": {},
   "outputs": [],
   "source": [
    "print('feature before dummies', x.info())"
   ]
  },
  {
   "cell_type": "code",
   "execution_count": null,
   "metadata": {},
   "outputs": [],
   "source": [
    "### labeling category\n",
    "# dummies feature\n",
    "# drop original\n",
    "for feature in categorical:\n",
    "    dummies = pd.get_dummies(x[feature], prefix=feature)\n",
    "    x = pd.concat([x, dummies], axis=1)\n",
    "    x.drop([feature], axis=1, inplace=True)\n",
    "print(x.info())\n",
    "print('feature rows/cols',x.shape)\n",
    "print()\n",
    "\n",
    "\n",
    "# encode target\n",
    "y.replace(\n",
    "    ['Satisfied', 'Disatisfied', 'Neither satisfied nor dissatisfied'],\n",
    "    [0, 1, 2],\n",
    "    inplace=True)"
   ]
  },
  {
   "cell_type": "code",
   "execution_count": null,
   "metadata": {},
   "outputs": [],
   "source": [
    "print(y.head())"
   ]
  },
  {
   "cell_type": "markdown",
   "metadata": {},
   "source": [
    "# Modelling Machine Learning"
   ]
  },
  {
   "cell_type": "code",
   "execution_count": null,
   "metadata": {},
   "outputs": [],
   "source": [
    "### Train Test Split\n",
    "from sklearn.model_selection import train_test_split\n",
    "xtrain, xtest, ytrain, ytest = train_test_split(x, y, test_size=0.1, random_state=0)"
   ]
  },
  {
   "cell_type": "code",
   "execution_count": null,
   "metadata": {},
   "outputs": [],
   "source": [
    "## random forest\n",
    "from sklearn import metrics\n",
    "import timeit\n",
    "from sklearn.ensemble import RandomForestClassifier\n",
    "\n",
    "\n",
    "rfc = RandomForestClassifier(n_estimators=100, \n",
    "                             n_jobs=-1, \n",
    "                             random_state=42,\n",
    "                             max_features=0.2, \n",
    "                             min_samples_leaf=1)\n",
    "rfc.fit(xtrain, ytrain)\n",
    "ypred_rfc = rfc.predict(xtest)\n",
    "rfc_as = metrics.accuracy_score(ytest, ypred_rfc)\n",
    "print('Forest score', rfc_as)"
   ]
  },
  {
   "cell_type": "code",
   "execution_count": null,
   "metadata": {},
   "outputs": [],
   "source": [
    "import joblib\n",
    "joblib.dump(rfc, 'stackOverflowSurvey_rfc3_comp', compress=3)"
   ]
  },
  {
   "cell_type": "code",
   "execution_count": null,
   "metadata": {},
   "outputs": [],
   "source": [
    "## FEATURE IMPORTANCE\n",
    "# by feature\n",
    "def graph_feature_importances(model, feature_names, autoscale=True, headroom=0.05, width=10, summarized_columns=None):\n",
    "    if autoscale:\n",
    "        x_scale = model.feature_importances_.max() + headroom\n",
    "    else:\n",
    "        x_scale = 1\n",
    "        \n",
    "    feature_dict=dict(zip(feature_names, model.feature_importances_))\n",
    "    \n",
    "    if summarized_columns:\n",
    "        for col_name in summarized_columns:\n",
    "            sum_value = sum(x for i, x in feature_dict.items() if col_name in i )\n",
    "            keys_to_remove = [i for i in feature_dict.keys() if col_name in i ]\n",
    "            for i in keys_to_remove:\n",
    "                feature_dict.pop(i)\n",
    "            feature_dict[col_name] = sum_value\n",
    "    results = pd.Series(feature_dict, index=feature_dict.keys())\n",
    "    results.sort_values(inplace=True)\n",
    "    print(results)\n",
    "    results.plot(kind='barh', figsize=(4, 4.5))\n",
    "\n",
    "graph_feature_importances(rfc, x.columns, summarized_columns=categorical)\n",
    "plt.tight_layout()\n",
    "plt.show()"
   ]
  },
  {
   "cell_type": "code",
   "execution_count": null,
   "metadata": {},
   "outputs": [],
   "source": [
    "# by feature categories\n",
    "\n",
    "feature_importance = pd.Series(\n",
    "    rfc.feature_importances_, \n",
    "    index=x.columns).sort_values()\n",
    "feature_importance.plot(kind='barh', figsize=(6, 8))\n",
    "plt.tight_layout()\n",
    "plt.show()"
   ]
  },
  {
   "cell_type": "markdown",
   "metadata": {},
   "source": [
    "\n",
    "# Currect Summary\n",
    "Base on our model some of the feature contribute better than other:\n",
    "have impact on predicttion:\n",
    "- Time fully productive\n",
    "- Exercise\n",
    "- Our outside\n",
    "- Hour computer\n",
    "        \n",
    "Less impact:\n",
    "- Emplyment status\n",
    "- Hobby\n",
    "- Gender\n",
    "        \n",
    "follow up example:\n",
    "- Employer may optimize training for new employee so they can quickly adapt  to their new new evironment as quick as possible\n",
    "- Limit worker to face computer around 5 - 12 hours a day\n",
    "- for dev who feel un-satisfied with current status try exercise more rather than move to new job\n",
    "    \n",
    "# Optimizing\n",
    "base on two plot above we can determind which feature are importand to our model\n",
    "- keep what feature are more meaningfull to our model\n",
    "- remove what doesn't contribute to better decission model\n",
    "- try another feature then run again\n",
    "- as current selected here mostly general question, different result migth come if more specific feature feed into model"
   ]
  },
  {
   "cell_type": "code",
   "execution_count": null,
   "metadata": {
    "scrolled": true
   },
   "outputs": [],
   "source": [
    "# confusion matrix\n",
    "# create\n",
    "cm = metrics.confusion_matrix(ytest, ypred_rfc)\n",
    "print(cm)\n",
    "print(cm.shape)\n",
    "\n",
    "# vis\n",
    "sns.heatmap(cm)\n",
    "plt.ylabel('True label')\n",
    "plt.xlabel('Predicted label')\n",
    "plt.tight_layout()\n",
    "plt.show()"
   ]
  },
  {
   "cell_type": "markdown",
   "metadata": {},
   "source": [
    "- our model QUITE ACCURATE to predict given input as Satisfied\n",
    "- but LESS ACCURATE to predict Dissatisfied and Neither Satisfied or Disatisfied\n",
    "- and MORE LIKELY to predict Dissatisfied ans Neither Satisfied or Disatisfied as Satisfied"
   ]
  },
  {
   "cell_type": "code",
   "execution_count": null,
   "metadata": {},
   "outputs": [],
   "source": [
    "#### Out-Out-Sample Prediction\n",
    "## map input\n",
    "# age\n",
    "age18_24 = [1,0,0,0,0,0,0]\n",
    "age25_34 = [0,1,0,0,0,0,0]\n",
    "age35_44 = [0,0,1,0,0,0,0]\n",
    "age45_54 = [0,0,0,1,0,0,0]\n",
    "age55_64 = [0,0,0,0,1,0,0]\n",
    "age65_older = [0,0,0,0,0,1,0]\n",
    "age_under18 = [0,0,0,0,0,0,1]\n",
    "# gender\n",
    "gender_f = [1,0,0]\n",
    "gender_m = [0,1,0]\n",
    "gender_nb = [0,0,1]\n",
    "# hobby\n",
    "hobby_y = [1,0]\n",
    "hobby_n = [0,1]\n",
    "# hours on computer\n",
    "hour1_4 = [1,0,0,0,0]\n",
    "hour5_8 = [0,1,0,0,0]\n",
    "hour9_12 = [0,0,1,0,0]\n",
    "hour_lessThan1 = [0,0,0,1,0]\n",
    "hour_over12 = [0,0,0,0,1]\n",
    "# hour outside\n",
    "out1_2 = [1,0,0,0,0]\n",
    "out3_4 = [0,1,0,0,0]\n",
    "out30_50mnt = [0,0,1,0,0]\n",
    "out_30mntLess = [0,0,0,1,0]\n",
    "out_over4 = [0,0,0,0,1]\n",
    "# years coding\n",
    "years0_2 = [1,0,0,0]\n",
    "years10_orMore = [0,1,0,0]\n",
    "years2_5 = [0,0,1,0]\n",
    "years5_10 = [0,0,0,1]\n",
    "# time fully productive\n",
    "product_lessOne = [1,0,0,0]\n",
    "product_1_3 = [0,1,0,0]\n",
    "product_3_6 = [0,0,1,0]\n",
    "product_6_more = [0,0,0,1]\n",
    "# exercise\n",
    "exe_1_2_week = [1,0,0,0]\n",
    "exe_3_4_week = [0,1,0,0]\n",
    "exe_daily = [0,0,1,0]\n",
    "exe_no = [0,0,0,1]\n",
    "# employment\n",
    "fullTime = [1, 0]\n",
    "partTime = [0, 1]"
   ]
  },
  {
   "cell_type": "code",
   "execution_count": null,
   "metadata": {},
   "outputs": [],
   "source": [
    "# test & predict proba\n",
    "# age, gender, hobby, hour computer, hour outside, years coding, time productive, exercise\n",
    "sample1 = age25_34 + gender_m + hobby_y + hour1_4 + out1_2 + years0_2 + product_1_3 + exe_no + partTime\n",
    "\n",
    "y_oos = rfc.predict([sample1])[0]\n",
    "y_oos_proba = rfc.predict_proba([sample1])[0]\n",
    "status = target_name[y_oos]\n",
    "percent_status = round(y_oos_proba[y_oos], 3) * 100\n",
    "\n",
    "print(y_oos)\n",
    "print(y_oos_proba)\n",
    "print(f'sample1 may {status} with {percent_status} %')"
   ]
  }
 ],
 "metadata": {
  "kernelspec": {
   "display_name": "Python 3",
   "language": "python",
   "name": "python3"
  },
  "language_info": {
   "codemirror_mode": {
    "name": "ipython",
    "version": 3
   },
   "file_extension": ".py",
   "mimetype": "text/x-python",
   "name": "python",
   "nbconvert_exporter": "python",
   "pygments_lexer": "ipython3",
   "version": "3.7.2"
  }
 },
 "nbformat": 4,
 "nbformat_minor": 2
}
